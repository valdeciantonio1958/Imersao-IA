{
  "nbformat": 4,
  "nbformat_minor": 0,
  "metadata": {
    "colab": {
      "provenance": [],
      "authorship_tag": "ABX9TyNBuBAIYDsIr+EkWMIvOLIJ",
      "include_colab_link": true
    },
    "kernelspec": {
      "name": "python3",
      "display_name": "Python 3"
    },
    "language_info": {
      "name": "python"
    }
  },
  "cells": [
    {
      "cell_type": "markdown",
      "metadata": {
        "id": "view-in-github",
        "colab_type": "text"
      },
      "source": [
        "<a href=\"https://colab.research.google.com/github/valdeciantonio1958/Imersao-IA/blob/main/AdaAula8a.ipynb\" target=\"_parent\"><img src=\"https://colab.research.google.com/assets/colab-badge.svg\" alt=\"Open In Colab\"/></a>"
      ]
    },
    {
      "cell_type": "code",
      "execution_count": 1,
      "metadata": {
        "id": "5rCviTlefnAg"
      },
      "outputs": [],
      "source": [
        "lista_numeros = [2,5,4.2, -6]"
      ]
    },
    {
      "cell_type": "code",
      "source": [
        "lista_numeros\n"
      ],
      "metadata": {
        "colab": {
          "base_uri": "https://localhost:8080/"
        },
        "id": "ki0RDI9afyrH",
        "outputId": "e62e6ddf-4d0e-4741-fb6b-a9367441dfeb"
      },
      "execution_count": 2,
      "outputs": [
        {
          "output_type": "execute_result",
          "data": {
            "text/plain": [
              "[2, 5, 4.2, -6]"
            ]
          },
          "metadata": {},
          "execution_count": 2
        }
      ]
    },
    {
      "cell_type": "code",
      "source": [
        "\n",
        "minha_lista = [\"a\",\"b\",\"c\",42,5,7,[True,\"Ada\",314]]\n",
        "minha_lista[:4 ]\n",
        ""
      ],
      "metadata": {
        "colab": {
          "base_uri": "https://localhost:8080/"
        },
        "id": "2Ol-kZx7f2n9",
        "outputId": "431477d5-c3cc-4c30-8415-1887d0160a2f"
      },
      "execution_count": 3,
      "outputs": [
        {
          "output_type": "execute_result",
          "data": {
            "text/plain": [
              "['a', 'b', 'c', 42]"
            ]
          },
          "metadata": {},
          "execution_count": 3
        }
      ]
    },
    {
      "cell_type": "code",
      "source": [
        "minha_lista[6]\n"
      ],
      "metadata": {
        "colab": {
          "base_uri": "https://localhost:8080/"
        },
        "id": "jJEJA_0gjbA8",
        "outputId": "79e50816-597f-43ff-92dd-bd34e98f8e2e"
      },
      "execution_count": 4,
      "outputs": [
        {
          "output_type": "execute_result",
          "data": {
            "text/plain": [
              "[True, 'Ada', 314]"
            ]
          },
          "metadata": {},
          "execution_count": 4
        }
      ]
    },
    {
      "cell_type": "code",
      "source": [
        "minha_lista[6][-1]\n"
      ],
      "metadata": {
        "colab": {
          "base_uri": "https://localhost:8080/"
        },
        "id": "XICCNSJQj1oI",
        "outputId": "3690a0e9-bf8e-488a-9282-d74be497ca2c"
      },
      "execution_count": 11,
      "outputs": [
        {
          "output_type": "execute_result",
          "data": {
            "text/plain": [
              "314"
            ]
          },
          "metadata": {},
          "execution_count": 11
        }
      ]
    },
    {
      "cell_type": "code",
      "source": [
        "minha_lista2 = [50,6,0,70]\n",
        "minha_lista + minha_lista2"
      ],
      "metadata": {
        "colab": {
          "base_uri": "https://localhost:8080/"
        },
        "id": "84DuSTBdkAK6",
        "outputId": "baf938d2-1c09-4a7b-a782-629184e11d53"
      },
      "execution_count": 12,
      "outputs": [
        {
          "output_type": "execute_result",
          "data": {
            "text/plain": [
              "['a', 'b', 'c', 42, 5, 7, [True, 'Ada', 314], 50, 6, 0, 70]"
            ]
          },
          "metadata": {},
          "execution_count": 12
        }
      ]
    },
    {
      "cell_type": "code",
      "source": [
        "lista = []"
      ],
      "metadata": {
        "id": "mqKnwDlVlXXF"
      },
      "execution_count": 13,
      "outputs": []
    },
    {
      "cell_type": "code",
      "source": [
        "lista.append(5)"
      ],
      "metadata": {
        "id": "dplSjnrbmOMj"
      },
      "execution_count": 14,
      "outputs": []
    },
    {
      "cell_type": "code",
      "source": [
        "lista.append(10)"
      ],
      "metadata": {
        "id": "B3EK290kmWzk"
      },
      "execution_count": 15,
      "outputs": []
    },
    {
      "cell_type": "code",
      "source": [
        "lista.append('ada')"
      ],
      "metadata": {
        "id": "VgaB_k6Smmmj"
      },
      "execution_count": 16,
      "outputs": []
    },
    {
      "cell_type": "code",
      "source": [
        "lista.insert(2,True)"
      ],
      "metadata": {
        "id": "vLFP2ribmvCT"
      },
      "execution_count": 17,
      "outputs": []
    },
    {
      "cell_type": "code",
      "source": [
        "lista"
      ],
      "metadata": {
        "colab": {
          "base_uri": "https://localhost:8080/"
        },
        "id": "kbnTsLlhm5_z",
        "outputId": "e1520f0d-4963-48f7-8e2b-56cee2fc7d7b"
      },
      "execution_count": 18,
      "outputs": [
        {
          "output_type": "execute_result",
          "data": {
            "text/plain": [
              "[5, 10, True, 'ada']"
            ]
          },
          "metadata": {},
          "execution_count": 18
        }
      ]
    },
    {
      "cell_type": "code",
      "source": [
        "lista[3] = \"val\""
      ],
      "metadata": {
        "id": "F6f4aG46m7Qi"
      },
      "execution_count": 19,
      "outputs": []
    },
    {
      "cell_type": "code",
      "source": [
        "lista"
      ],
      "metadata": {
        "colab": {
          "base_uri": "https://localhost:8080/"
        },
        "id": "2iPBLaGinRLj",
        "outputId": "f372a32c-6f1c-4d29-a44b-dd7a0485f995"
      },
      "execution_count": 20,
      "outputs": [
        {
          "output_type": "execute_result",
          "data": {
            "text/plain": [
              "[5, 10, True, 'val']"
            ]
          },
          "metadata": {},
          "execution_count": 20
        }
      ]
    },
    {
      "cell_type": "code",
      "source": [
        "lista.remove(10)"
      ],
      "metadata": {
        "id": "IK0NjxNOnSlz"
      },
      "execution_count": 21,
      "outputs": []
    },
    {
      "cell_type": "code",
      "source": [
        "lista\n"
      ],
      "metadata": {
        "colab": {
          "base_uri": "https://localhost:8080/"
        },
        "id": "D0kqqmr8nwck",
        "outputId": "a99eec6c-8e9c-44f7-aee6-0583eaedcfc2"
      },
      "execution_count": 22,
      "outputs": [
        {
          "output_type": "execute_result",
          "data": {
            "text/plain": [
              "[5, True, 'val']"
            ]
          },
          "metadata": {},
          "execution_count": 22
        }
      ]
    },
    {
      "cell_type": "code",
      "source": [
        "lista.pop()"
      ],
      "metadata": {
        "colab": {
          "base_uri": "https://localhost:8080/",
          "height": 35
        },
        "id": "v1K8_MNXnynR",
        "outputId": "37058e86-7de7-4e29-abe3-e429d627c3fb"
      },
      "execution_count": 23,
      "outputs": [
        {
          "output_type": "execute_result",
          "data": {
            "text/plain": [
              "'val'"
            ],
            "application/vnd.google.colaboratory.intrinsic+json": {
              "type": "string"
            }
          },
          "metadata": {},
          "execution_count": 23
        }
      ]
    },
    {
      "cell_type": "code",
      "source": [
        "lista_num = [-6,2,3,14,4,2,8,10]"
      ],
      "metadata": {
        "id": "5PrifR9aoSDQ"
      },
      "execution_count": 24,
      "outputs": []
    },
    {
      "cell_type": "code",
      "source": [
        "sorted(lista_num)"
      ],
      "metadata": {
        "colab": {
          "base_uri": "https://localhost:8080/"
        },
        "id": "WtZ44w13qg12",
        "outputId": "1e5bb5ee-6023-49b3-8047-0ed2824f645e"
      },
      "execution_count": 25,
      "outputs": [
        {
          "output_type": "execute_result",
          "data": {
            "text/plain": [
              "[-6, 2, 2, 3, 4, 8, 10, 14]"
            ]
          },
          "metadata": {},
          "execution_count": 25
        }
      ]
    },
    {
      "cell_type": "code",
      "source": [
        "lista_num"
      ],
      "metadata": {
        "colab": {
          "base_uri": "https://localhost:8080/"
        },
        "id": "v6CR7Tg1qTne",
        "outputId": "f810cc26-cb17-401f-b350-6bd647bfc1df"
      },
      "execution_count": 26,
      "outputs": [
        {
          "output_type": "execute_result",
          "data": {
            "text/plain": [
              "[-6, 2, 3, 14, 4, 2, 8, 10]"
            ]
          },
          "metadata": {},
          "execution_count": 26
        }
      ]
    },
    {
      "cell_type": "code",
      "source": [
        "sorted(lista_num)"
      ],
      "metadata": {
        "colab": {
          "base_uri": "https://localhost:8080/"
        },
        "id": "y1rYDq3dqsq-",
        "outputId": "5bbb7816-76ef-4c97-8b3b-70b8717ff123"
      },
      "execution_count": 27,
      "outputs": [
        {
          "output_type": "execute_result",
          "data": {
            "text/plain": [
              "[-6, 2, 2, 3, 4, 8, 10, 14]"
            ]
          },
          "metadata": {},
          "execution_count": 27
        }
      ]
    },
    {
      "cell_type": "code",
      "source": [
        "lista_num(::-1)"
      ],
      "metadata": {
        "colab": {
          "base_uri": "https://localhost:8080/",
          "height": 106
        },
        "id": "MIK-4eYGrMjA",
        "outputId": "e1c772a8-9b19-4cbf-b3e3-fe74a94c0b14"
      },
      "execution_count": 28,
      "outputs": [
        {
          "output_type": "error",
          "ename": "SyntaxError",
          "evalue": "invalid syntax (<ipython-input-28-704e4d67ef57>, line 1)",
          "traceback": [
            "\u001b[0;36m  File \u001b[0;32m\"<ipython-input-28-704e4d67ef57>\"\u001b[0;36m, line \u001b[0;32m1\u001b[0m\n\u001b[0;31m    lista_num(::-1)\u001b[0m\n\u001b[0m              ^\u001b[0m\n\u001b[0;31mSyntaxError\u001b[0m\u001b[0;31m:\u001b[0m invalid syntax\n"
          ]
        }
      ]
    },
    {
      "cell_type": "code",
      "source": [
        "sorted(lista_num)[::-1]"
      ],
      "metadata": {
        "colab": {
          "base_uri": "https://localhost:8080/"
        },
        "id": "p9Lx4YUmq5p1",
        "outputId": "6d8391e5-2ded-44d1-f0e4-5114786ab53d"
      },
      "execution_count": 29,
      "outputs": [
        {
          "output_type": "execute_result",
          "data": {
            "text/plain": [
              "[14, 10, 8, 4, 3, 2, 2, -6]"
            ]
          },
          "metadata": {},
          "execution_count": 29
        }
      ]
    },
    {
      "cell_type": "code",
      "source": [
        "media = sum(lista_num)/len(lista_num)"
      ],
      "metadata": {
        "id": "mH4pO57mrab1"
      },
      "execution_count": 32,
      "outputs": []
    },
    {
      "cell_type": "code",
      "source": [
        "media"
      ],
      "metadata": {
        "colab": {
          "base_uri": "https://localhost:8080/"
        },
        "id": "qn_gyeI3s4-p",
        "outputId": "12d04eff-c262-4fac-aff5-364d4d052d5f"
      },
      "execution_count": 33,
      "outputs": [
        {
          "output_type": "execute_result",
          "data": {
            "text/plain": [
              "4.625"
            ]
          },
          "metadata": {},
          "execution_count": 33
        }
      ]
    },
    {
      "cell_type": "code",
      "source": [
        "notas = [8,10,6,5,5]"
      ],
      "metadata": {
        "id": "KscXkic9tSpS"
      },
      "execution_count": 34,
      "outputs": []
    },
    {
      "cell_type": "code",
      "source": [
        "media = sum(notas)/len(notas)"
      ],
      "metadata": {
        "id": "EYF-F9ctvchh"
      },
      "execution_count": 35,
      "outputs": []
    },
    {
      "cell_type": "code",
      "source": [
        "media"
      ],
      "metadata": {
        "colab": {
          "base_uri": "https://localhost:8080/"
        },
        "id": "qLA4N-YDvkkX",
        "outputId": "d7eb2a5b-8ac3-435d-c436-35a0c7ed975a"
      },
      "execution_count": 36,
      "outputs": [
        {
          "output_type": "execute_result",
          "data": {
            "text/plain": [
              "6.8"
            ]
          },
          "metadata": {},
          "execution_count": 36
        }
      ]
    },
    {
      "cell_type": "code",
      "source": [
        "num_notas = int(input(\"Digitge o número de notas\"))\n",
        "notas = []\n",
        "\n",
        "cont = 1\n",
        "\n",
        "while cont <= num_notas:\n",
        "  nota_atual = float(input(\"Digite a nota: \"))\n",
        "  notas.append(nota_atual)\n",
        "  cont += 1\n",
        "  media = sum(notas)/len(notas)\n",
        "print(media)\n",
        "\n"
      ],
      "metadata": {
        "colab": {
          "base_uri": "https://localhost:8080/"
        },
        "id": "aWHTauPjvl5P",
        "outputId": "bdcff319-e564-48c2-fd82-a1fa3401156b"
      },
      "execution_count": 42,
      "outputs": [
        {
          "output_type": "stream",
          "name": "stdout",
          "text": [
            "Digitge o número de notas3\n",
            "Digite a nota: 10\n",
            "Digite a nota: 5\n",
            "Digite a nota: 6\n",
            "7.0\n"
          ]
        }
      ]
    },
    {
      "cell_type": "code",
      "source": [],
      "metadata": {
        "id": "UjsTJNJ1y40U"
      },
      "execution_count": null,
      "outputs": []
    }
  ]
}