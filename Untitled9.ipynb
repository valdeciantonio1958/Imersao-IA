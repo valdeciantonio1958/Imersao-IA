{
  "nbformat": 4,
  "nbformat_minor": 0,
  "metadata": {
    "colab": {
      "provenance": [],
      "authorship_tag": "ABX9TyOBFlLD+Uo0UgiByxAsmYun",
      "include_colab_link": true
    },
    "kernelspec": {
      "name": "python3",
      "display_name": "Python 3"
    },
    "language_info": {
      "name": "python"
    }
  },
  "cells": [
    {
      "cell_type": "markdown",
      "metadata": {
        "id": "view-in-github",
        "colab_type": "text"
      },
      "source": [
        "<a href=\"https://colab.research.google.com/github/valdeciantonio1958/Imersao-IA/blob/main/Untitled9.ipynb\" target=\"_parent\"><img src=\"https://colab.research.google.com/assets/colab-badge.svg\" alt=\"Open In Colab\"/></a>"
      ]
    },
    {
      "cell_type": "code",
      "execution_count": 2,
      "metadata": {
        "colab": {
          "base_uri": "https://localhost:8080/"
        },
        "id": "CMveiVNvsCuP",
        "outputId": "850b4bd8-e6fb-4f89-9a5b-8632ec7d6216"
      },
      "outputs": [
        {
          "output_type": "execute_result",
          "data": {
            "text/plain": [
              "{'nomes': ['JOse', 'Maria', 'Marta'],\n",
              " 'idades': [20, 30, 15],\n",
              " 'cidades': ['SP', 'RJ', 'SSA']}"
            ]
          },
          "metadata": {},
          "execution_count": 2
        }
      ],
      "source": [
        "import pandas\n",
        "cadastro_dict = {\"nomes\":[\"JOse\",\"Maria\",\"Marta\"],\n",
        "                 \"idades\":[20,30,15],\n",
        "                 \"cidades\":[\"SP\",\"RJ\",\"SSA\"]}\n",
        "cadastro_dict\n",
        "\n",
        "\n",
        "\n"
      ]
    }
  ]
}